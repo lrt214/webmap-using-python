{
 "cells": [
  {
   "cell_type": "code",
   "execution_count": 13,
   "metadata": {},
   "outputs": [],
   "source": [
    "import folium as fm\n",
    "import pandas as pd\n",
    "\n",
    "df = pandas.read_csv(\"in.csv\")\n",
    "list_lat=list(df[\"lat\"])\n",
    "list_lng=list(df[\"lng\"])\n",
    "cy=list(df[\"city\"])\n",
    "p=list(df[\"population\"])\n",
    "\n",
    "def color(popu):\n",
    "        if popu>1000000:\n",
    "             return \"red\"\n",
    "        elif 300000<=popu<995000:\n",
    "            return \"orange\"\n",
    "        else:\n",
    "            return \"green\",\n",
    "maps=fm.Map(location=[21,78],zoom_start=5,)\n",
    "fg=fm.FeatureGroup(name=\"my map\")\n",
    "    \n",
    "for a,b,c,d in zip(list_lat,list_lng,cy,p):\n",
    "        fg.add_child(fm.CircleMarker(location=[a,b],radius=5,popup=[c,d],fill_color=color(d),color =\"grey\",fill_opacity=.9))\n",
    "maps.add_child(fg)\n",
    "maps.save(\"maps1.html\")\n",
    "    \n"
   ]
  },
  {
   "cell_type": "code",
   "execution_count": null,
   "metadata": {},
   "outputs": [],
   "source": []
  }
 ],
 "metadata": {
  "kernelspec": {
   "display_name": "Python 3",
   "language": "python",
   "name": "python3"
  },
  "language_info": {
   "codemirror_mode": {
    "name": "ipython",
    "version": 3
   },
   "file_extension": ".py",
   "mimetype": "text/x-python",
   "name": "python",
   "nbconvert_exporter": "python",
   "pygments_lexer": "ipython3",
   "version": "3.8.3"
  }
 },
 "nbformat": 4,
 "nbformat_minor": 4
}
